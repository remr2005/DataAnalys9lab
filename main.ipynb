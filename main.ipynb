{
 "cells": [
  {
   "cell_type": "markdown",
   "metadata": {},
   "source": [
    "Выбрать на kaggle.com датасет с неразмеченными данными.\n",
    "\n",
    "Перевести все значения признаков в числа и шкалировать.\n",
    "\n",
    "Произвести кластеризацию по методу k-средних на оптимальное для этого датасета число кластеров.\n",
    "\n",
    "Произвести восходящую кластеризацию. \n",
    "\n",
    "Сравнить результаты\n"
   ]
  },
  {
   "cell_type": "code",
   "execution_count": null,
   "metadata": {
    "vscode": {
     "languageId": "plaintext"
    }
   },
   "outputs": [],
   "source": [
    "def main():\n",
    "    print()\n",
    "\n",
    "if __name__==\"__main__\":\n",
    "    main()"
   ]
  }
 ],
 "metadata": {
  "language_info": {
   "name": "python"
  }
 },
 "nbformat": 4,
 "nbformat_minor": 2
}
